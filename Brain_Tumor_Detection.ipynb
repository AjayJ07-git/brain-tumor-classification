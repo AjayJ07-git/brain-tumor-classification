{
 "cells": [
  {
   "cell_type": "markdown",
   "metadata": {},
   "source": [
    "# Brain Tumor Detection Using Deep Learning and Transfer Learning Techniques"
   ]
  },
  {
   "cell_type": "markdown",
   "metadata": {},
   "source": [
    "## Importing all the required modules"
   ]
  },
  {
   "cell_type": "code",
   "execution_count": 1,
   "metadata": {},
   "outputs": [],
   "source": [
    "import torch #Deep learning operations\n",
    "import torch.nn as nn #Neural network module\n",
    "import torch.optim as optim #Optimization module\n",
    "from torch.utils.data import DataLoader #Data loading module\n",
    "from torchvision import models, transforms #Computer vision module\n",
    "from torchvision.datasets import ImageFolder #Dataset structure for image classification\n",
    "import matplotlib.pyplot as plt #Plotting library\n",
    "import os #Operating system module"
   ]
  },
  {
   "cell_type": "markdown",
   "metadata": {},
   "source": [
    "### Check if a GPU is available and set the device accordingly"
   ]
  },
  {
   "cell_type": "code",
   "execution_count": 2,
   "metadata": {},
   "outputs": [
    {
     "name": "stdout",
     "output_type": "stream",
     "text": [
      "Using cuda for training.\n"
     ]
    }
   ],
   "source": [
    "device = torch.device('cuda' if torch.cuda.is_available() else 'cpu')\n",
    "print(f\"Using {device} for training.\")"
   ]
  },
  {
   "cell_type": "markdown",
   "metadata": {},
   "source": [
    "### Assignment of Directories for datasets"
   ]
  },
  {
   "cell_type": "code",
   "execution_count": 3,
   "metadata": {},
   "outputs": [],
   "source": [
    "train_dir = \"./Training/\" #Training directory\n",
    "test_dir = \"./Testing/\" #Testing directory"
   ]
  },
  {
   "cell_type": "markdown",
   "metadata": {},
   "source": [
    "###  Defining Hyperparameters"
   ]
  },
  {
   "cell_type": "code",
   "execution_count": 4,
   "metadata": {},
   "outputs": [],
   "source": [
    "IMG_SIZE = 224  # Input size for ResNet models\n",
    "BATCH_SIZE = 32\n",
    "NUM_CLASSES = 4  # glioma, meningioma, notumor, pituitary\n",
    "LEARNING_RATE = 0.001\n",
    "NUM_EPOCHS = 50"
   ]
  },
  {
   "cell_type": "markdown",
   "metadata": {},
   "source": [
    "### Data Preprocessing and Augmentation"
   ]
  },
  {
   "cell_type": "markdown",
   "metadata": {},
   "source": [
    "#### Data augmentation techniques are applied to the training dataset to improve the model's generalization. This includes random resized cropping, horizontal flipping, and normalization. The transformations ensure that the model learns robust features rather than overfitting to specific image patterns."
   ]
  },
  {
   "cell_type": "code",
   "execution_count": 5,
   "metadata": {},
   "outputs": [],
   "source": [
    "train_transforms = transforms.Compose([\n",
    "    transforms.RandomResizedCrop(IMG_SIZE),\n",
    "    transforms.RandomHorizontalFlip(),\n",
    "    transforms.ToTensor(),\n",
    "    transforms.Normalize(mean=[0.485, 0.456, 0.406], std=[0.229, 0.224, 0.225])  # ResNet normalization\n",
    "])\n",
    "\n",
    "test_transforms = transforms.Compose([\n",
    "    transforms.Resize(IMG_SIZE),\n",
    "    transforms.CenterCrop(IMG_SIZE),\n",
    "    transforms.ToTensor(),\n",
    "    transforms.Normalize(mean=[0.485, 0.456, 0.406], std=[0.229, 0.224, 0.225])  # ResNet normalization\n",
    "])"
   ]
  },
  {
   "cell_type": "markdown",
   "metadata": {},
   "source": [
    "###  Loading the Dataset"
   ]
  },
  {
   "cell_type": "markdown",
   "metadata": {},
   "source": [
    "#### The dataset is loaded using PyTorch’s ImageFolder function, which organizes images based on folder structure. The DataLoader is then used to prepare batches of data for training and testing. This step ensures efficient data handling during the training process."
   ]
  },
  {
   "cell_type": "code",
   "execution_count": 6,
   "metadata": {},
   "outputs": [],
   "source": [
    "# Load datasets\n",
    "train_dataset = ImageFolder(train_dir, transform=train_transforms)\n",
    "test_dataset = ImageFolder(test_dir, transform=test_transforms)\n",
    "\n",
    "# DataLoader\n",
    "train_loader = DataLoader(train_dataset, batch_size=BATCH_SIZE, shuffle=True)\n",
    "test_loader = DataLoader(test_dataset, batch_size=BATCH_SIZE, shuffle=False)"
   ]
  },
  {
   "cell_type": "markdown",
   "metadata": {},
   "source": [
    "### ResNet-50 Overview"
   ]
  },
  {
   "cell_type": "markdown",
   "metadata": {},
   "source": [
    "#### ResNet-50 is a deep convolutional neural network (CNN) with 50 layers, designed to solve the vanishing gradient problem using residual connections. These skip connections allow smooth gradient flow during backpropagation, making it highly effective for training deep networks. ResNet-50 is widely used in computer vision tasks due to its ability to extract hierarchical features from images, enabling accurate classification and object detection."
   ]
  },
  {
   "cell_type": "code",
   "execution_count": null,
   "metadata": {},
   "outputs": [],
   "source": []
  },
  {
   "cell_type": "markdown",
   "metadata": {},
   "source": [
    "### Why ResNet-50 for Brain Tumor Detection?"
   ]
  },
  {
   "cell_type": "markdown",
   "metadata": {},
   "source": [
    "#### Brain tumor images contain complex patterns and textures that require deep feature extraction, which ResNet-50 efficiently handles. Since it has been pre-trained on millions of images, it can generalize well, even when fine-tuned for medical image classification. The residual connections prevent performance degradation in deeper networks, ensuring that even subtle tumor variations are captured effectively."
   ]
  },
  {
   "cell_type": "markdown",
   "metadata": {},
   "source": [
    "### Transfer Learning with ResNet-50"
   ]
  },
  {
   "cell_type": "markdown",
   "metadata": {},
   "source": [
    "#### Transfer learning allows us to leverage a pre-trained ResNet-50 model by modifying its final classification layers for brain tumor detection. The initial layers, which learn general image features, are frozen, while the later layers are fine-tuned on medical images. This significantly reduces training time and improves accuracy, as the model retains pre-learned visual representations from large datasets."
   ]
  },
  {
   "cell_type": "markdown",
   "metadata": {},
   "source": [
    "### Fine-Tuning ResNet-50 for Brain Tumor Classification"
   ]
  },
  {
   "cell_type": "markdown",
   "metadata": {},
   "source": [
    "#### To adapt ResNet-50 for brain tumor detection, the last fully connected layer is replaced with a new one that has four output classes (Glioma, Meningioma, No Tumor, Pituitary). The model is then trained with a lower learning rate to avoid drastic weight updates while using data augmentation techniques to improve generalization. Optimizers like Adam or SGD are used alongside a categorical cross-entropy loss function for better classification performance."
   ]
  },
  {
   "cell_type": "markdown",
   "metadata": {},
   "source": [
    "### Advantages of Using Transfer Learning in Medical Imaging"
   ]
  },
  {
   "cell_type": "markdown",
   "metadata": {},
   "source": [
    "#### Transfer learning with ResNet-50 significantly reduces computational costs and training time while maintaining high accuracy. Since medical image datasets are often limited, leveraging pre-trained models allows better generalization and feature extraction. Additionally, fine-tuning pre-trained models ensures that even a small dataset can achieve robust classification results, making it a powerful tool for brain tumor diagnosis."
   ]
  },
  {
   "cell_type": "markdown",
   "metadata": {},
   "source": [
    "### Model Selection"
   ]
  },
  {
   "cell_type": "markdown",
   "metadata": {},
   "source": [
    "#### A pre-trained ResNet-50 model is loaded, leveraging transfer learning. This model has been trained on large image datasets and will be fine-tuned for brain tumor classification. Using a pre-trained model helps in achieving better accuracy with fewer training examples."
   ]
  },
  {
   "cell_type": "code",
   "execution_count": 7,
   "metadata": {},
   "outputs": [
    {
     "name": "stderr",
     "output_type": "stream",
     "text": [
      "c:\\Users\\AjayJ03\\AppData\\Local\\Programs\\Python\\Python310\\lib\\site-packages\\torchvision\\models\\_utils.py:208: UserWarning: The parameter 'pretrained' is deprecated since 0.13 and may be removed in the future, please use 'weights' instead.\n",
      "  warnings.warn(\n",
      "c:\\Users\\AjayJ03\\AppData\\Local\\Programs\\Python\\Python310\\lib\\site-packages\\torchvision\\models\\_utils.py:223: UserWarning: Arguments other than a weight enum or `None` for 'weights' are deprecated since 0.13 and may be removed in the future. The current behavior is equivalent to passing `weights=ResNet50_Weights.IMAGENET1K_V1`. You can also use `weights=ResNet50_Weights.DEFAULT` to get the most up-to-date weights.\n",
      "  warnings.warn(msg)\n"
     ]
    }
   ],
   "source": [
    "model = models.resnet50(pretrained=True)"
   ]
  },
  {
   "cell_type": "markdown",
   "metadata": {},
   "source": [
    "### Freezing Model Parameters for Inference or Fine-Tuning"
   ]
  },
  {
   "cell_type": "code",
   "execution_count": 8,
   "metadata": {},
   "outputs": [],
   "source": [
    "for param in model.parameters():\n",
    "    param.requires_grad = False"
   ]
  },
  {
   "cell_type": "markdown",
   "metadata": {},
   "source": [
    "### Modifying the Final Layer of a Neural Network for Custom Classification"
   ]
  },
  {
   "cell_type": "code",
   "execution_count": 9,
   "metadata": {},
   "outputs": [],
   "source": [
    "num_features = model.fc.in_features\n",
    "model.fc = nn.Sequential(\n",
    "    nn.Linear(num_features, 512),  # Add an intermediate layer for more learnable parameters\n",
    "    nn.ReLU(),\n",
    "    nn.Dropout(0.4),  # Dropout for regularization\n",
    "    nn.Linear(512, NUM_CLASSES)  # Final layer for classification\n",
    ")"
   ]
  },
  {
   "cell_type": "markdown",
   "metadata": {},
   "source": [
    "### Enabling Gradient Updates for Specific Layers in the Model"
   ]
  },
  {
   "cell_type": "code",
   "execution_count": 10,
   "metadata": {},
   "outputs": [],
   "source": [
    "for param in list(model.layer4.parameters()):\n",
    "    param.requires_grad = True"
   ]
  },
  {
   "cell_type": "markdown",
   "metadata": {},
   "source": [
    "### Moving the Model to the Specified Device (e.g., GPU or CPU)"
   ]
  },
  {
   "cell_type": "code",
   "execution_count": 11,
   "metadata": {},
   "outputs": [],
   "source": [
    "model = model.to(device)"
   ]
  },
  {
   "cell_type": "markdown",
   "metadata": {},
   "source": [
    "### Loss Function and Optimizer Setup"
   ]
  },
  {
   "cell_type": "code",
   "execution_count": 12,
   "metadata": {},
   "outputs": [],
   "source": [
    "criterion = nn.CrossEntropyLoss()\n",
    "optimizer = optim.Adam(filter(lambda p: p.requires_grad, model.parameters()), lr=LEARNING_RATE)"
   ]
  },
  {
   "cell_type": "markdown",
   "metadata": {},
   "source": [
    "### Training Loop: Loss and Accuracy Monitoring"
   ]
  },
  {
   "cell_type": "code",
   "execution_count": 13,
   "metadata": {},
   "outputs": [],
   "source": [
    "def train(model, train_loader, criterion, optimizer, device, num_epochs=NUM_EPOCHS):\n",
    "    train_losses = []\n",
    "    train_accuracies = []\n",
    "    \n",
    "    for epoch in range(num_epochs):\n",
    "        model.train()\n",
    "        running_loss = 0.0\n",
    "        correct_preds = 0\n",
    "        total_preds = 0\n",
    "        \n",
    "        for images, labels in train_loader:\n",
    "            images, labels = images.to(device), labels.to(device)\n",
    "            \n",
    "            optimizer.zero_grad()\n",
    "            outputs = model(images)\n",
    "            \n",
    "            loss = criterion(outputs, labels)\n",
    "            loss.backward()\n",
    "            optimizer.step()\n",
    "            \n",
    "            running_loss += loss.item()\n",
    "            \n",
    "            # Get predictions\n",
    "            _, preds = torch.max(outputs, 1)\n",
    "            correct_preds += torch.sum(preds == labels).item()\n",
    "            total_preds += labels.size(0)\n",
    "        \n",
    "        epoch_loss = running_loss / len(train_loader)\n",
    "        epoch_accuracy = correct_preds / total_preds\n",
    "        \n",
    "        train_losses.append(epoch_loss)\n",
    "        train_accuracies.append(epoch_accuracy)\n",
    "        \n",
    "        print(f\"Epoch [{epoch+1}/{num_epochs}], Loss: {epoch_loss:.4f}, Accuracy: {epoch_accuracy:.4f}\")\n",
    "    \n",
    "    return train_losses, train_accuracies"
   ]
  },
  {
   "cell_type": "markdown",
   "metadata": {},
   "source": [
    "### Model Evaluation: Test Loss and Accuracy Calculation"
   ]
  },
  {
   "cell_type": "code",
   "execution_count": 14,
   "metadata": {},
   "outputs": [],
   "source": [
    "def evaluate(model, test_loader, criterion, device):\n",
    "    model.eval()\n",
    "    test_loss = 0.0\n",
    "    correct_preds = 0\n",
    "    total_preds = 0\n",
    "    \n",
    "    with torch.no_grad():\n",
    "        for images, labels in test_loader:\n",
    "            images, labels = images.to(device), labels.to(device)\n",
    "            \n",
    "            outputs = model(images)\n",
    "            loss = criterion(outputs, labels)\n",
    "            test_loss += loss.item()\n",
    "            \n",
    "            # Get predictions\n",
    "            _, preds = torch.max(outputs, 1)\n",
    "            correct_preds += torch.sum(preds == labels).item()\n",
    "            total_preds += labels.size(0)\n",
    "    \n",
    "    avg_test_loss = test_loss / len(test_loader)\n",
    "    test_accuracy = correct_preds / total_preds\n",
    "    print(f\"Test Loss: {avg_test_loss:.4f}, Test Accuracy: {test_accuracy:.4f}\")\n",
    "    \n",
    "    return avg_test_loss, test_accuracy"
   ]
  },
  {
   "cell_type": "markdown",
   "metadata": {},
   "source": [
    "### Training Loss and Accuracy Calculation"
   ]
  },
  {
   "cell_type": "code",
   "execution_count": 15,
   "metadata": {},
   "outputs": [
    {
     "name": "stdout",
     "output_type": "stream",
     "text": [
      "Epoch [1/50], Loss: 0.4728, Accuracy: 0.8372\n",
      "Epoch [2/50], Loss: 0.3076, Accuracy: 0.8965\n",
      "Epoch [3/50], Loss: 0.2512, Accuracy: 0.9104\n",
      "Epoch [4/50], Loss: 0.2294, Accuracy: 0.9210\n",
      "Epoch [5/50], Loss: 0.1962, Accuracy: 0.9322\n",
      "Epoch [6/50], Loss: 0.1988, Accuracy: 0.9315\n",
      "Epoch [7/50], Loss: 0.1649, Accuracy: 0.9433\n",
      "Epoch [8/50], Loss: 0.1554, Accuracy: 0.9435\n",
      "Epoch [9/50], Loss: 0.1472, Accuracy: 0.9477\n",
      "Epoch [10/50], Loss: 0.1480, Accuracy: 0.9464\n",
      "Epoch [11/50], Loss: 0.1268, Accuracy: 0.9575\n",
      "Epoch [12/50], Loss: 0.1348, Accuracy: 0.9568\n",
      "Epoch [13/50], Loss: 0.1226, Accuracy: 0.9550\n",
      "Epoch [14/50], Loss: 0.1162, Accuracy: 0.9592\n",
      "Epoch [15/50], Loss: 0.1206, Accuracy: 0.9590\n",
      "Epoch [16/50], Loss: 0.1172, Accuracy: 0.9575\n",
      "Epoch [17/50], Loss: 0.1072, Accuracy: 0.9625\n",
      "Epoch [18/50], Loss: 0.1050, Accuracy: 0.9631\n",
      "Epoch [19/50], Loss: 0.1172, Accuracy: 0.9578\n",
      "Epoch [20/50], Loss: 0.1040, Accuracy: 0.9617\n",
      "Epoch [21/50], Loss: 0.1055, Accuracy: 0.9639\n",
      "Epoch [22/50], Loss: 0.0851, Accuracy: 0.9708\n",
      "Epoch [23/50], Loss: 0.1450, Accuracy: 0.9592\n",
      "Epoch [24/50], Loss: 0.1827, Accuracy: 0.9454\n",
      "Epoch [25/50], Loss: 0.1322, Accuracy: 0.9576\n",
      "Epoch [26/50], Loss: 0.1122, Accuracy: 0.9589\n",
      "Epoch [27/50], Loss: 0.0981, Accuracy: 0.9660\n",
      "Epoch [28/50], Loss: 0.0890, Accuracy: 0.9685\n",
      "Epoch [29/50], Loss: 0.0901, Accuracy: 0.9711\n",
      "Epoch [30/50], Loss: 0.0793, Accuracy: 0.9715\n",
      "Epoch [31/50], Loss: 0.0760, Accuracy: 0.9727\n",
      "Epoch [32/50], Loss: 0.0746, Accuracy: 0.9748\n",
      "Epoch [33/50], Loss: 0.0775, Accuracy: 0.9730\n",
      "Epoch [34/50], Loss: 0.0873, Accuracy: 0.9723\n",
      "Epoch [35/50], Loss: 0.0751, Accuracy: 0.9727\n",
      "Epoch [36/50], Loss: 0.0725, Accuracy: 0.9748\n",
      "Epoch [37/50], Loss: 0.0753, Accuracy: 0.9722\n",
      "Epoch [38/50], Loss: 0.0753, Accuracy: 0.9734\n",
      "Epoch [39/50], Loss: 0.0744, Accuracy: 0.9741\n",
      "Epoch [40/50], Loss: 0.0808, Accuracy: 0.9737\n",
      "Epoch [41/50], Loss: 0.0806, Accuracy: 0.9713\n",
      "Epoch [42/50], Loss: 0.0711, Accuracy: 0.9729\n",
      "Epoch [43/50], Loss: 0.0644, Accuracy: 0.9772\n",
      "Epoch [44/50], Loss: 0.0782, Accuracy: 0.9729\n",
      "Epoch [45/50], Loss: 0.0851, Accuracy: 0.9680\n",
      "Epoch [46/50], Loss: 0.0672, Accuracy: 0.9757\n",
      "Epoch [47/50], Loss: 0.0596, Accuracy: 0.9799\n",
      "Epoch [48/50], Loss: 0.0736, Accuracy: 0.9760\n",
      "Epoch [49/50], Loss: 0.0799, Accuracy: 0.9720\n",
      "Epoch [50/50], Loss: 0.0615, Accuracy: 0.9779\n"
     ]
    }
   ],
   "source": [
    "train_losses, train_accuracies = train(model, train_loader, criterion, optimizer, device)"
   ]
  },
  {
   "cell_type": "markdown",
   "metadata": {},
   "source": [
    "### Evaluating Model Performance on Test Data"
   ]
  },
  {
   "cell_type": "code",
   "execution_count": 16,
   "metadata": {},
   "outputs": [
    {
     "name": "stdout",
     "output_type": "stream",
     "text": [
      "Test Loss: 0.0442, Test Accuracy: 0.9893\n"
     ]
    }
   ],
   "source": [
    "test_loss, test_accuracy = evaluate(model, test_loader, criterion, device)"
   ]
  },
  {
   "cell_type": "markdown",
   "metadata": {},
   "source": [
    "### Saving the Trained ResNet-50 Model for Brain Tumor Detection"
   ]
  },
  {
   "cell_type": "code",
   "execution_count": 17,
   "metadata": {},
   "outputs": [],
   "source": [
    "torch.save(model.state_dict(), \"brain_tumor_resnet50_transfer_learning.pth\")"
   ]
  },
  {
   "cell_type": "markdown",
   "metadata": {},
   "source": [
    "### Visualization of Training Accuracy and Loss Over Epochs"
   ]
  },
  {
   "cell_type": "code",
   "execution_count": 18,
   "metadata": {},
   "outputs": [
    {
     "data": {
      "image/png": "[encoded data removed]",
      "text/plain": [
       "<Figure size 1200x400 with 2 Axes>"
      ]
     },
     "metadata": {},
     "output_type": "display_data"
    }
   ],
   "source": [
    "plt.figure(figsize=(12, 4))\n",
    "\n",
    "# Plot training accuracy\n",
    "plt.subplot(1, 2, 1)\n",
    "plt.plot(train_accuracies, label='Training Accuracy')\n",
    "plt.legend()\n",
    "plt.title('Training Accuracy')\n",
    "\n",
    "# Plot training loss\n",
    "plt.subplot(1, 2, 2)\n",
    "plt.plot(train_losses, label='Training Loss')\n",
    "plt.legend()\n",
    "plt.title('Training Loss')\n",
    "\n",
    "plt.show()"
   ]
  }
 ],
 "metadata": {
  "kernelspec": {
   "display_name": "Python 3",
   "language": "python",
   "name": "python3"
  },
  "language_info": {
   "codemirror_mode": {
    "name": "ipython",
    "version": 3
   },
   "file_extension": ".py",
   "mimetype": "text/x-python",
   "name": "python",
   "nbconvert_exporter": "python",
   "pygments_lexer": "ipython3",
   "version": "3.10.0"
  }
 },
 "nbformat": 4,
 "nbformat_minor": 2
}
